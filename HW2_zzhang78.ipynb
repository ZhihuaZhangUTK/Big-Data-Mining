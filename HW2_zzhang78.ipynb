{
 "cells": [
  {
   "cell_type": "code",
   "execution_count": 1,
   "metadata": {
    "collapsed": true
   },
   "outputs": [],
   "source": [
    "from pyspark import SparkContext\n",
    "from pyspark.mllib.recommendation import ALS,MatrixFactorizationModel, Rating"
   ]
  },
  {
   "cell_type": "code",
   "execution_count": 2,
   "metadata": {
    "collapsed": true
   },
   "outputs": [],
   "source": [
    "# load data \n",
    "user_aritist_data = sc.textFile(r'data/user_artist_data_small.txt')\n",
    "artist_data = sc.textFile(r'data/artist_data_small.txt')\n",
    "artist_alias = sc.textFile(r'data/artist_alias_small.txt')"
   ]
  },
  {
   "cell_type": "code",
   "execution_count": 3,
   "metadata": {},
   "outputs": [
    {
     "name": "stdout",
     "output_type": "stream",
     "text": [
      "UserID:  (count: 49481, mean: 1328420.19494351, stdev: 452986.735676, max: 2288164.0, min: 1000647.0)\n",
      "ArtistID： (count: 49481, mean: 2003155.0297285826, stdev: 2489584.20712, max: 10788218.0, min: 1.0)\n",
      "Count:  (count: 49481, mean: 130.5757967704775, stdev: 3034.35409229, max: 439771.0, min: 1.0)\n"
     ]
    }
   ],
   "source": [
    "# check the statistics of UserID and ArtistID\n",
    "print('UserID: ', user_aritist_data.map(lambda line: int(line.split(\" \")[0])).stats())\n",
    "print('ArtistID：', user_aritist_data.map(lambda line: int(line.split(\" \")[1])).stats())\n",
    "print('Count: ', user_aritist_data.map(lambda line: int(line.split(\" \")[2])).stats())\n",
    "\n",
    "#The computed statistics that are printed reveal that the maximum user and artist IDs are 2288164 and 10788218, respectively.\n",
    "#These are comfortably smaller than 2147483647. No additional transformation will be necessary to use these IDs."
   ]
  },
  {
   "cell_type": "code",
   "execution_count": 4,
   "metadata": {},
   "outputs": [
    {
     "data": {
      "text/plain": [
       "[(1240105, 'André Visior'),\n",
       " (1240113, 'riow arai'),\n",
       " (1240132, 'Outkast & Rage Against the Machine'),\n",
       " (6776115, '小松正夫'),\n",
       " (1030848, \"Raver's Nature\"),\n",
       " (6671601, 'Erguner, Kudsi'),\n",
       " (1106617, 'Bloque'),\n",
       " (1240185, 'Lexy & K. Paul'),\n",
       " (6671631, 'Rev. W.M. Mosley'),\n",
       " (6671632, 'Labelle, Patti')]"
      ]
     },
     "execution_count": 4,
     "metadata": {},
     "output_type": "execute_result"
    }
   ],
   "source": [
    "# map the artist names that correspond to the numeric ID\n",
    "def convert(line):\n",
    "    id, name = line.split(\"\\t\")\n",
    "    if not name or not id:      # remove record when there is missing value in line\n",
    "        return\n",
    "    id = int(id)\n",
    "    name = name.strip()\n",
    "    return (id, name)\n",
    "artist_data_new = artist_data.map(convert)\n",
    "artist_data_new.take(10)"
   ]
  },
  {
   "cell_type": "code",
   "execution_count": 5,
   "metadata": {
    "collapsed": true
   },
   "outputs": [],
   "source": [
    "# map the artist alias.txt file so that you can get the misspelled or non-standard names to be mapped to the \n",
    "#artist’s canonical names\n",
    "def alias(line):\n",
    "    id,alias = line.split('\\t')\n",
    "    if not id or not alias:\n",
    "        return\n",
    "    return (int(id), int(alias))\n",
    "artist_alias_new = artist_alias.map(alias).collectAsMap()   #create a dict so that it can be indexed to replace misspelled names\n",
    "alias = sc.broadcast(artist_alias_new)"
   ]
  },
  {
   "cell_type": "code",
   "execution_count": 6,
   "metadata": {
    "collapsed": true
   },
   "outputs": [],
   "source": [
    "# Get the dataset for the Spark ALS implementation\n",
    "def train(line):\n",
    "    userID, artistID, count = line.split(\" \")\n",
    "    userID, artistID, count = int(userID), int(artistID), int(count)\n",
    "    artistID = alias.value.get(artistID,artistID)   # Convert artist IDs to a canonical ID \n",
    "    return  (userID, artistID, count)\n",
    "#convert the data into a Rating object\n",
    "train_data = user_aritist_data.map(train).map(lambda x: Rating(x[0],x[1],x[2]))"
   ]
  },
  {
   "cell_type": "code",
   "execution_count": 7,
   "metadata": {},
   "outputs": [
    {
     "data": {
      "text/plain": [
       "Rating(user=1059637, product=1000010, rating=238.0)"
      ]
     },
     "execution_count": 7,
     "metadata": {},
     "output_type": "execute_result"
    }
   ],
   "source": [
    "train_data.first()"
   ]
  },
  {
   "cell_type": "code",
   "execution_count": 8,
   "metadata": {
    "collapsed": true
   },
   "outputs": [],
   "source": [
    "# Build an initial model for ALS using the trainImplicit function\n",
    "model = ALS.trainImplicit(train_data, 10, 5, 0.01, 1)"
   ]
  },
  {
   "cell_type": "code",
   "execution_count": 9,
   "metadata": {},
   "outputs": [
    {
     "data": {
      "text/plain": [
       "<pyspark.mllib.recommendation.MatrixFactorizationModel at 0x5b2aac8>"
      ]
     },
     "execution_count": 9,
     "metadata": {},
     "output_type": "execute_result"
    }
   ],
   "source": [
    "model"
   ]
  },
  {
   "cell_type": "code",
   "execution_count": 10,
   "metadata": {
    "collapsed": true
   },
   "outputs": [],
   "source": [
    "#spot checking recommendations\n",
    "def recommend(userID):\n",
    "    artofuser = user_aritist_data.map(lambda line:line.split(\" \")).filter(lambda x: x[0]== str(userID))\n",
    "    artproducts = set(artofuser.map(lambda x: int(x[1])).collect()) # the unique artistID that the user have listened\n",
    "    # Extract the IDs and names\n",
    "    products = artist_data_new.filter(lambda x:x[0] in artproducts).map(lambda x:(x[0],x[1])).collect()\n",
    "    print(\"Listened products by user: \" + str(userID), products[:50]) # print 50 listened products\n",
    "    \n",
    "    #Get 10 the recommended products \n",
    "    rec = model.recommendProducts(userID,50) \n",
    "    recproducts = set([x[1] for x in rec])\n",
    "    rec_products = artist_data_new.filter(lambda x:x[0] in recproducts).map(lambda x:(x[0], x[1])).collect()\n",
    "    # print out the recommended products\n",
    "    print(\"Recommended products for user: \" + str(userID), rec_products)\n",
    "    \n",
    "    #check the number of recommend products that have listened by the user\n",
    "    print(\"Number of recommend products in listened products: \", sum([x in products for x in rec_products]))"
   ]
  },
  {
   "cell_type": "code",
   "execution_count": 11,
   "metadata": {},
   "outputs": [
    {
     "name": "stdout",
     "output_type": "stream",
     "text": [
      "Listened products by user: 1059637 [(1002584, 'Nena'), (1247913, 'JamisonParker'), (1257062, 'The Spill Canvas'), (1257410, 'tomandandy (ft. Kip Pardue)'), (1260489, 'The Exciters'), (1260572, 'Nightmare Of You'), (1261496, 'J-Kwon'), (6992072, 'angle'), (5496, 'Echo & the Bunnymen'), (1150039, 'Letter Kills'), (1283493, 'An Angle'), (1006354, 'Pedro the Lion'), (1085052, 'Cordero'), (78, 'Sublime'), (1233389, 'The American Analog Set'), (1234850, 'The Hollies'), (1009156, 'Mae'), (1003853, 'Les Savy Fav'), (1044920, 'Matchbook Romance'), (5659, 'Midtown'), (1000428, 'Blind Melon'), (1000320, 'MxPx'), (1314259, \"I Can Make a Mess Like Nobody's Business\"), (1005990, 'Motion City Soundtrack'), (6790420, 'The Academy Is'), (1001233, 'Sheryl Crow'), (1003727, 'Yeah Yeah Yeahs'), (1019931, 'Usher'), (1009499, 'ebaumsworld.com'), (6957310, 'Starting LineLine'), (1006594, 'Norma Jean'), (1002225, 'Sunny Day Real Estate'), (1002289, 'Guster'), (1006411, 'Built to Spill'), (1000305, 'The Lightning Seeds'), (1233196, 'The Postal Service'), (1010442, 'Remy Zero'), (1117890, 'Mr. C'), (1003568, 'Tears for Fears'), (1001198, 'Fountains of Wayne'), (1000289, 'Meat Loaf'), (1028270, 'Story of the Year'), (1001487, 'Finch'), (1192, 'Electric Light Orchestra'), (1319, 'Zero 7'), (1000427, 'New Found Glory'), (1002223, 'Phantom Planet'), (1004226, 'Yellowcard'), (1341277, 'Bette Midler, Goldie Hawn, & Diane Keaton'), (1018266, 'This Day Forward')]\n",
      "Recommended products for user: 1059637 [(1233196, 'The Postal Service'), (1000487, 'The Cardigans'), (1002838, 'The Juliana Theory'), (1001487, 'Finch'), (1000427, 'New Found Glory'), (1004226, 'Yellowcard'), (4192, 'Death Cab for Cutie'), (1002128, 'Taking Back Sunday'), (1002095, 'Something Corporate'), (1004536, 'The Libertines'), (1348794, 'Hawthorne Heights'), (1004294, 'Thursday'), (1025225, 'Fall Out Boy'), (5606, 'Less Than Jake'), (1004278, 'Brand New'), (1026440, 'My Chemical Romance'), (1193, 'Elliott Smith'), (5409, 'AFI'), (1006633, 'Coheed and Cambria'), (1001066, 'The Ataris'), (1008337, 'Frou Frou'), (1003176, 'Dashboard Confessional'), (1233770, 'The Shins'), (1000130, 'Bright Eyes'), (1001779, 'Modest Mouse'), (1000570, 'Bad Religion'), (1000112, 'Alkaline Trio'), (1231740, 'Franz Ferdinand'), (1003681, 'The Mars Volta'), (1270639, 'The Killers'), (1004296, 'Thrice'), (1000123, 'Incubus'), (3327, 'Weezer'), (1002840, 'The Blood Brothers'), (1000263, 'Jimmy Eat World'), (1250233, 'Iron & Wine'), (1031866, 'Alexisonfire'), (4267, 'Green Day'), (1019347, 'Armor for Sleep'), (1006672, 'Further Seems Forever'), (1006957, 'Underoath'), (1001530, 'The Starting Line'), (1002204, 'The Movielife'), (1004484, 'The Used'), (1016435, 'Senses Fail'), (1001412, 'blink-182'), (1006123, 'Cursive'), (1007735, 'Hot Hot Heat'), (1006715, 'From Autumn to Ashes'), (1238230, 'Straylight Run')]\n",
      "Number of recommend products in listened products:  45\n"
     ]
    }
   ],
   "source": [
    "# userID: 1059637\n",
    "recommend(1059637)"
   ]
  },
  {
   "cell_type": "code",
   "execution_count": 12,
   "metadata": {},
   "outputs": [
    {
     "name": "stdout",
     "output_type": "stream",
     "text": [
      "Listened products by user: 2023686 [(1240132, 'Outkast & Rage Against the Machine'), (1240262, 'The Gufs'), (6828988, 'Southern Conference Featuring Dr. Ace'), (1002584, 'Nena'), (1240603, 'The Wake'), (1241016, 'The Ducky Boys'), (1241122, 'The Glove'), (7031362, 'Piolts vs. Aeroplane'), (7031363, 'Grinning Idiots'), (7031364, 'DJ Krush Featuring Boss The Mc'), (7031365, 'Beavis & Butt-head (Mike Judge)'), (10025458, 'Emil Hyde'), (1244907, 'Lindsay Lohan'), (1245026, 'The Pimps'), (1245064, 'The Patti Smith Group'), (1137400, 'Chaise Lounge'), (1068227, 'Bliss 66'), (604, 'Ten Foot Pole'), (10027022, 'E_O_H'), (1044471, 'Eugene Chadbourne'), (1246307, 'Bash & Pop'), (10027052, 'Chasing Zero'), (6828997, 'Chuck Girard with Paul Johnson'), (1246478, 'The Choir'), (1000193, 'Saliva'), (1086845, 'Hanover Saints'), (6962264, 'Dale Thompson & The Kentucky Cadillacs'), (1247017, 'Nusrat Fateh Ali Khan & Party & Diamanda Gallas'), (1839, 'Alabama 3'), (1116416, 'Combine'), (1248390, 'The Starseeds'), (10029232, 'The Rich Mullins Project'), (1249247, 'Punky Brusster'), (9979298, 'The Three Stooges.'), (9979300, 'Sometimes You Feel Like A Nut'), (9979309, 'Do You Know Exactly How'), (9979310, 'The Mariner'), (1249561, 'never alone'), (9979317, 'Ozzy & Sharon Osbourne'), (6864536, 'The Cortinas'), (9979319, 'Meow Meow Meow Meow'), (10237098, 'Indigo Girls & Micheal Stipe'), (9979324, 'Candy Coated Popcorn, Peanuts And A Prize'), (1249966, 'The Sun'), (1250037, 'O-Matic'), (9979335, 'Stronger Than Dirt'), (9979338, 'Winston Tastes Good'), (9979341, 'The Marlboro Song'), (1140199, 'Edan 6 Day'), (1251059, 'The Rogers Sisters')]\n",
      "Recommended products for user: 2023686 [(7006467, 'Henrik T.'), (1001233, 'Sheryl Crow'), (4497, 'The Sundays'), (599, 'NOFX'), (1002062, 'Jewel'), (1233610, 'The Rapture'), (1034635, '[unknown]'), (2439, 'HiM'), (1008583, \"Ol' Dirty Bastard\"), (1000305, 'The Lightning Seeds'), (1017893, 'Christina Aguilera'), (1004294, 'Thursday'), (887, 'Wax Poetic'), (5477, 'Deftones'), (718, 'Dropkick Murphys'), (1001066, 'The Ataris'), (1014604, 'Orange 9MM'), (304, 'Ennio Morricone'), (1000088, 'Counting Crows'), (1, 'Portishead'), (1194, 'Lenny Kravitz'), (4622, 'The Get Up Kids'), (1014340, 'Make Up'), (2013670, 'Evan Dando & Juliana Hatfield'), (1004296, 'Thrice'), (1006837, 'Curve'), (1241695, 'Mr. Mirainga'), (1264, 'Patti Smith'), (1247516, 'The Real Kids'), (6866886, 'Team America: World Police'), (1246839, 'The Soup Dragons'), (1238478, 'The Freddy Jones Band'), (2114258, 'The Mysteries Of Life'), (1254644, 'The CandySkins'), (1234700, 'The Beat'), (1127113, 'Paris, Texas'), (1036654, 'Huntingtons'), (1025647, 'Squad Five-O'), (1029592, 'Jane Siberry'), (1007864, 'Mellowdrone'), (1006896, 'Natalie Merchant'), (1003694, 'South Park'), (1235663, 'The Disposable Heroes of Hiphoprisy'), (1007201, 'Vic Chesnutt'), (1010725, 'Paul Revere and the Raiders'), (1239516, 'Bono, Gavin Friday & Maurice Seezer'), (1007263, 'Pernice Brothers'), (2535, 'Lloyd Cole'), (1012077, 'Joe Strummer and the Mescaleros'), (2884, 'Chumbawamba')]\n",
      "Number of recommend products in listened products:  49\n"
     ]
    }
   ],
   "source": [
    "# userID: 2023686\n",
    "recommend(2023686)"
   ]
  },
  {
   "cell_type": "code",
   "execution_count": 13,
   "metadata": {},
   "outputs": [
    {
     "name": "stdout",
     "output_type": "stream",
     "text": [
      "Listened products by user: 1026084 [(1030848, \"Raver's Nature\"), (1240510, 'The Mercury Program'), (6990766, 'Phil Hendrie - 11/06/98'), (1244952, 'The Fiery Furnaces'), (10299597, 'Egodog'), (1246719, 'The Loud Family'), (1246950, 'The Roots of Orchis'), (1246957, 'The Intima'), (1247079, 'The Plus Ones'), (1247732, 'Williamson'), (1248245, 'The Three Amigos'), (1248866, 'New Artist (483)'), (10584463, 'A/D Abe Dolinger'), (1251900, 'The Ex'), (10436601, 'Michael Tiernan'), (135, 'Motorbass'), (1004461, 'Gary Jules'), (1252607, 'bexar bexar'), (9934695, 'Eric in Frisco'), (7031948, 'James Shadko'), (1253284, 'Café Del Mar'), (1000658, 'Squeeze'), (1234278, 'The (International) Noise Conspiracy'), (1255551, 'Stan Getz & Joao Gilberto Featuring Antonio Carlos Jobim'), (1033983, 'Calendar Girl'), (1257059, 'The Bacon Brothers'), (1257729, 'Béla Bartók'), (1258010, 'Archie Bronson Outfit'), (1259199, 'Roger Clyne & the Peacemakers'), (1554, 'Cave In'), (1259410, 'The Twin Atlas'), (1260548, 'Rainy Day Crush'), (1260737, 'The Magic Magicians'), (1237561, 'The Handsome Family'), (1051103, 'Iluvatar'), (1262913, 'Ffa Coffi Pawb'), (1262964, 'Quran'), (1264025, 'The Planet The'), (1011023, 'Giorgio Moroder'), (1265100, 'Morrissey and The Smiths'), (1265923, 'Porter Rockwell'), (1265956, 'Storm, Inc.'), (1266111, 'Streets Most Wanted'), (1266115, '08-Lovage'), (1266516, 'American Water / The Silver Jews'), (1266541, 'Danny Tenaglia ft Nick Warren'), (1266566, 'Graig Markel'), (1266595, 'G, Mike'), (1266891, 'CSR SO/Lenárd'), (1267018, 'Rush Limbaugh   Paul Shanklin')]\n",
      "Recommended products for user: 1026084 [(1195, 'Elvis Costello'), (1006354, 'Pedro the Lion'), (9983203, 'João Gilberto, Stan Getz & Astrud Gilberto'), (1003430, 'Snow Patrol'), (1003727, 'Yeah Yeah Yeahs'), (1002262, 'The Polyphonic Spree'), (1034635, '[unknown]'), (1233196, 'The Postal Service'), (1006160, 'Ted Leo and the Pharmacists'), (1000487, 'The Cardigans'), (1278, 'Ryan Adams'), (1004440, 'Guided by Voices'), (1319, 'Zero 7'), (4192, 'Death Cab for Cutie'), (1006234, 'Rilo Kiley'), (1001907, 'Wilco'), (420, 'Neutral Milk Hotel'), (1169, 'Badly Drawn Boy'), (4481, 'The Hives'), (1991, 'Cake'), (1008337, 'Frou Frou'), (1001588, 'Morrissey'), (1164, 'Wheat'), (1233770, 'The Shins'), (223, 'Talking Heads'), (4221, 'Eels'), (1275996, 'R.E.M.'), (1001134, 'The Stone Roses'), (4569, 'Simon & Garfunkel'), (189, 'The Cure'), (1235, 'Kings of Convenience'), (979, 'Radiohead'), (1177, 'Coldplay'), (1205, 'U2'), (3066, 'Nat King Cole'), (1000418, 'Azure Ray'), (1156425, '+/-'), (1233239, 'The Mountain Goats'), (891, 'Yo La Tengo'), (1001276, 'John Vanderslice'), (1007801, 'Mates of State'), (1011292, 'Metric'), (1005235, 'The Dismemberment Plan'), (28, 'New Order'), (1266817, 'Stan Getz & João Gilberto'), (1246136, 'Georg Friedrich Händel'), (1250233, 'Iron & Wine'), (1014117, 'Bishop Allen'), (1252111, 'The Elected'), (15, 'Björk')]\n",
      "Number of recommend products in listened products:  44\n"
     ]
    }
   ],
   "source": [
    "# userID: 1026084\n",
    "recommend(1026084)"
   ]
  },
  {
   "cell_type": "code",
   "execution_count": 14,
   "metadata": {},
   "outputs": [
    {
     "name": "stdout",
     "output_type": "stream",
     "text": [
      "Mean Squared Error for (10 10 0.01 1) = 876718.4995627955\n",
      "Mean Squared Error for (10 10 0.01 1) = 750506.8470843043\n",
      "Mean Squared Error for (10 10 0.01 1) = 76078114.3264593\n",
      "Mean Squared Error for (10 10 0.01 1) = 4397547.34793695\n",
      "Mean Squared Error for (10 10 0.01 1) = 817284.3237705904\n",
      "Mean Squared Error for (10 10 0.01 1) = 75140715.43301444\n",
      "Mean Squared Error for (10 10 0.01 1) = 2223835.3984293407\n",
      "Mean Squared Error for (10 10 0.01 1) = 2454363.652959341\n",
      "Mean Squared Error for (10 10 0.01 1) = 14390667.10041674\n",
      "Mean Squared Error for (10 10 0.01 1) = 581811.4237929212\n",
      "The average Mean Squared Error for (10 10 0.01 1) = 17771156.435342677\n"
     ]
    }
   ],
   "source": [
    "#Using the Cross-validation loop to study performance of our recommender\n",
    "#split data\n",
    "split = [0.1]*10\n",
    "train = train_data.randomSplit(split, seed = 111)\n",
    "sum = 0\n",
    "# split into 5 folder to do cross_validation\n",
    "for i in range(len(train)):\n",
    "    test = train[i]\n",
    "    testData = test.map(lambda x:(x[0],x[1])).cache()\n",
    "    trainData = sc.union(train[0:i]+train[i+1:])\n",
    "    #parameters\n",
    "    rank, iterations, lam, alpha = 10, 10, 0.01, 1\n",
    "    train_model = ALS.trainImplicit(trainData, rank, iterations, lam, alpha)\n",
    "    prediction = train_model.predictAll(testData).map(lambda r: ((r[0],r[1]),r[2]))  #prediction value for testing data\n",
    "    # Evaluate the model on testing data\n",
    "    ratesAndPreds = test.map(lambda r: ((r[0], r[1]), r[2])).join(prediction)\n",
    "    MSE = ratesAndPreds.map(lambda r: (r[1][0] - r[1][1])**2).mean()\n",
    "    print(\"Mean Squared Error for (%s %s %s %s) = %s\" % (rank, iterations, lam, alpha, MSE))\n",
    "    sum += MSE\n",
    "print(\"The average Mean Squared Error for (%s %s %s %s) = %s\" % (rank, iterations, lam, alpha, sum/10))"
   ]
  },
  {
   "cell_type": "code",
   "execution_count": 15,
   "metadata": {},
   "outputs": [
    {
     "name": "stdout",
     "output_type": "stream",
     "text": [
      "The average Mean Squared Error for (10 10 1.0 1) = 18470813.814283602\n",
      "The average Mean Squared Error for (10 10 1.0 40) = 18470808.96186333\n",
      "The average Mean Squared Error for (10 10 0.0001 1) = 18470726.10576769\n",
      "The average Mean Squared Error for (10 10 0.0001 40) = 18470727.610244505\n",
      "The average Mean Squared Error for (50 10 1.0 1) = 18470840.306206394\n",
      "The average Mean Squared Error for (50 10 1.0 40) = 18470841.475081377\n",
      "The average Mean Squared Error for (50 10 0.0001 1) = 18470928.53915021\n",
      "The average Mean Squared Error for (50 10 0.0001 40) = 18470929.60796326\n",
      "The best model with params: (10, 10, 0.0001, 1),and MSE is 18470726.10576769\n"
     ]
    }
   ],
   "source": [
    "def cross_validation(data, rank, iterations, alpha, lam):\n",
    "    split = [0.1]*10\n",
    "    train = data.randomSplit(split,seed=1234)\n",
    "    sum = 0\n",
    "    # split into 5 folder to do cross_validation\n",
    "    for i in range(len(train)):\n",
    "        test = train[i]\n",
    "        testData = test.map(lambda x:(x[0],x[1])).cache()\n",
    "        trainData = sc.union(train[0:i]+train[i+1:])\n",
    "        train_model = ALS.trainImplicit(trainData, rank, iterations, lam, alpha)\n",
    "        prediction = train_model.predictAll(testData).map(lambda r: ((r[0],r[1]),r[2]))  #prediction value for testing data\n",
    "        # Evaluate the model on testing data\n",
    "        ratesAndPreds = test.map(lambda r: ((r[0], r[1]), r[2])).join(prediction)\n",
    "        MSE = ratesAndPreds.map(lambda r: (r[1][0] - r[1][1])**2).mean()\n",
    "        sum += MSE\n",
    "    print(\"The average Mean Squared Error for (%s %s %s %s) = %s\" % (rank, iterations, lam, alpha, sum/10))\n",
    "    return sum/10\n",
    "\n",
    "#Playing with the hyper-parameters\n",
    "ranks = [10, 50]\n",
    "lams = [1.0, 0.0001]\n",
    "alphas = [1, 40]\n",
    "MIN = float('inf')\n",
    "iterations = 10\n",
    "for rank in ranks:\n",
    "    for lam in lams:\n",
    "        for alpha in alphas:\n",
    "            MSE = cross_validation(train_data, rank, iterations, alpha, lam)\n",
    "            if MSE<MIN:\n",
    "                MIN = MSE\n",
    "                params = (rank, iterations, lam, alpha)\n",
    "print(\"The best model with params: \" + str(params) +\",and MSE is \" + str(MIN))"
   ]
  }
 ],
 "metadata": {
  "kernelspec": {
   "display_name": "Python 3",
   "language": "python",
   "name": "python3"
  },
  "language_info": {
   "codemirror_mode": {
    "name": "ipython",
    "version": 3
   },
   "file_extension": ".py",
   "mimetype": "text/x-python",
   "name": "python",
   "nbconvert_exporter": "python",
   "pygments_lexer": "ipython3",
   "version": "3.6.1"
  },
  "name": "HW2",
  "notebookId": 1381052197434190
 },
 "nbformat": 4,
 "nbformat_minor": 1
}
